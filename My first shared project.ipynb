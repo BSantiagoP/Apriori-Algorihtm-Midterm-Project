{
    "cells": [
        {
            "cell_type": "markdown",
            "metadata": {
                "collapsed": true
            },
            "source": "# My first project"
        },
        {
            "cell_type": "markdown",
            "metadata": {},
            "source": "### Introduction:\nThis is the first project that I will be sharing"
        },
        {
            "cell_type": "markdown",
            "metadata": {},
            "source": "### Data Science Languages:\n- Python\n- R\n- Scala\n- SQL\n- JAVA\n- C++"
        },
        {
            "cell_type": "markdown",
            "metadata": {},
            "source": "### Data Science Libraries\n- Pandas\n- Numpy\n- Matplotlib\n- Seaborn\n- Keras\n- TensorFlow"
        },
        {
            "cell_type": "markdown",
            "metadata": {},
            "source": "### Data Science Tools\n- Github\n- Jupyter Notebooks\n- Rstudio"
        },
        {
            "cell_type": "markdown",
            "metadata": {},
            "source": "### Aritmethic Expressions\n- multiplication: *\n- addition: +\n- substraction: -\n- division: /\n"
        },
        {
            "cell_type": "code",
            "execution_count": 2,
            "metadata": {},
            "outputs": [
                {
                    "data": {
                        "text/plain": "30"
                    },
                    "execution_count": 2,
                    "metadata": {},
                    "output_type": "execute_result"
                }
            ],
            "source": "A=5\nB=6\nA*B"
        },
        {
            "cell_type": "code",
            "execution_count": 3,
            "metadata": {},
            "outputs": [
                {
                    "name": "stdout",
                    "output_type": "stream",
                    "text": "1.0\n"
                }
            ],
            "source": "minute=60\nhour=minute/60\nprint(hour)"
        },
        {
            "cell_type": "markdown",
            "metadata": {},
            "source": "### Objectives:\nto become a Data Scientist"
        },
        {
            "cell_type": "markdown",
            "metadata": {},
            "source": "#### Authors Name:\nBryam Piedra"
        },
        {
            "cell_type": "code",
            "execution_count": null,
            "metadata": {},
            "outputs": [],
            "source": ""
        }
    ],
    "metadata": {
        "kernelspec": {
            "display_name": "Python 3.10",
            "language": "python",
            "name": "python3"
        },
        "language_info": {
            "codemirror_mode": {
                "name": "ipython",
                "version": 3
            },
            "file_extension": ".py",
            "mimetype": "text/x-python",
            "name": "python",
            "nbconvert_exporter": "python",
            "pygments_lexer": "ipython3",
            "version": "3.10.6"
        }
    },
    "nbformat": 4,
    "nbformat_minor": 1
}
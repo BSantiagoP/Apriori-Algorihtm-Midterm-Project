{
 "cells": [
  {
   "cell_type": "markdown",
   "id": "07af2a31",
   "metadata": {},
   "source": [
    "# Reading File"
   ]
  },
  {
   "cell_type": "code",
   "execution_count": null,
   "id": "bbb6511c",
   "metadata": {},
   "outputs": [],
   "source": [
    "import csv\n",
    "import time\n",
    "import pandas as pd\n",
    "import itertools"
   ]
  },
  {
   "cell_type": "code",
   "execution_count": null,
   "id": "be994717",
   "metadata": {},
   "outputs": [],
   "source": [
    "def load_data(filename):\n",
    "    full_transaction_list= []\n",
    "    with open(filename, encoding = 'utf-8-sig') as data:\n",
    "        transaction_data = csv.reader(data, delimiter = ',')\n",
    "        for  row in transaction_data:\n",
    "            filtered_rows = [value for value in row if value != '']\n",
    "            full_transaction_list.append(filtered_rows)\n",
    "        return full_transaction_list"
   ]
  },
  {
   "cell_type": "code",
   "execution_count": null,
   "id": "d6da66d0",
   "metadata": {},
   "outputs": [],
   "source": [
    "#Asking the user to input the file\n",
    "new_list = load_data(input('please enter file name\\n'))\n"
   ]
  },
  {
   "cell_type": "markdown",
   "id": "c1d6c58a",
   "metadata": {},
   "source": [
    "# Asking user for min support and confidence"
   ]
  },
  {
   "cell_type": "code",
   "execution_count": null,
   "id": "e9e27991",
   "metadata": {},
   "outputs": [],
   "source": [
    "try:\n",
    "    user_input_minsupport =int(input('Please enter the minimum support value in percentage ex: 25 is 25%:\\n\\n'))\n",
    "    user_input_minConfidence = int(input('\\nPlease enter the min confidence value n percentage ex: 50 is 50%:\\n\\n'))\n",
    "except:\n",
    "    if user_input_minsupport == int(user_input_minsupport) or user_input_minConfidence == int(user_input_minConfidence):\n",
    "        print('please enter a numerical value') "
   ]
  },
  {
   "cell_type": "markdown",
   "id": "80ea6b36",
   "metadata": {},
   "source": [
    "# Transaction 2"
   ]
  },
  {
   "cell_type": "markdown",
   "id": "15987cef",
   "metadata": {},
   "source": [
    "### Apriori Algorithm"
   ]
  },
  {
   "cell_type": "code",
   "execution_count": null,
   "id": "933c7057",
   "metadata": {},
   "outputs": [],
   "source": [
    "start_time = time.time()\n",
    "\n",
    "#function to find all the unique values with their counts\n",
    "def Uniquevalues(Transactions):\n",
    "    unique_items = {}\n",
    "    for rows in Transactions:\n",
    "        for items in rows:\n",
    "            if items not in unique_items:\n",
    "                unique_items[items] = 1\n",
    "            else:\n",
    "                unique_items[items] = unique_items[items] + 1\n",
    "    uniqueitemlist = []\n",
    "    for value in unique_items:\n",
    "        Valuelist = []\n",
    "        Valuelist.append(value)\n",
    "        uniqueitemlist.append(Valuelist)\n",
    "        uniqueitemlist.append(unique_items[value])\n",
    "    return uniqueitemlist"
   ]
  },
  {
   "cell_type": "code",
   "execution_count": null,
   "id": "29a701a1",
   "metadata": {},
   "outputs": [],
   "source": [
    "One_UniqueItems = Uniquevalues(new_list)\n",
    "print('These are the unique items for Transaction 1:\\n\\n', One_UniqueItems)"
   ]
  },
  {
   "cell_type": "code",
   "execution_count": null,
   "id": "59df9efe",
   "metadata": {},
   "outputs": [],
   "source": [
    "#function used to remove the items that do not meet the threshold\n",
    "def remove_lessthansupportone(Candidates, transactions):\n",
    "    Firstcandidate_list= []\n",
    "    for i in range(len(Candidates)):\n",
    "        if i%2 != 0:\n",
    "            if (Candidates[i] / len(new_list))*100 >= user_input_minsupport:\n",
    "                Firstcandidate_list.append(Candidates[i-1])\n",
    "                Firstcandidate_list.append(Candidates[i]) \n",
    "    candidatesforcombo = []\n",
    "    for i in range(len(Firstcandidate_list)):\n",
    "        if i%2 == 0:\n",
    "            candidatesforcombo.append(Firstcandidate_list[i])\n",
    "    return candidatesforcombo"
   ]
  },
  {
   "cell_type": "code",
   "execution_count": null,
   "id": "c934da2e",
   "metadata": {},
   "outputs": [],
   "source": [
    "removed_first = remove_lessthansupportone(One_UniqueItems, new_list)\n",
    "print('\\nThese are the candidates after the first pass\\n\\n',removed_first )"
   ]
  },
  {
   "cell_type": "code",
   "execution_count": null,
   "id": "e18c8b33",
   "metadata": {},
   "outputs": [],
   "source": [
    "#function used to output all possible combinations (k itemsets)\n",
    "def Allpossiblecombinations(candidatesforcombo):\n",
    "    if not candidatesforcombo:\n",
    "        return [[]]\n",
    "    first= candidatesforcombo[0]\n",
    "    Allothers = candidatesforcombo[1:]\n",
    "    Withoutfirst = Allpossiblecombinations(Allothers)\n",
    "    Withfirst = [combo + [first] for combo in Withoutfirst]\n",
    "    Combinedlist=Withoutfirst + Withfirst\n",
    "    return Combinedlist"
   ]
  },
  {
   "cell_type": "code",
   "execution_count": null,
   "id": "5194aa83",
   "metadata": {},
   "outputs": [],
   "source": [
    "All_combos = Allpossiblecombinations(removed_first)"
   ]
  },
  {
   "cell_type": "code",
   "execution_count": null,
   "id": "186c04bd",
   "metadata": {},
   "outputs": [],
   "source": [
    "#function used to add the number of counts to the list provided before\n",
    "def allcombosunique(Combination, dataset):\n",
    "    from collections import Counter\n",
    "    Count = Counter()\n",
    "    for row in Combination:\n",
    "        for s in dataset:\n",
    "            if all(item in s for item in sum(row, [])):\n",
    "                Count[tuple(map(tuple, row))] += 1     \n",
    "    listcount = [[list(subset), count] for subset, count in Count.items()]\n",
    "    return(listcount)"
   ]
  },
  {
   "cell_type": "code",
   "execution_count": null,
   "id": "1409d0e5",
   "metadata": {},
   "outputs": [],
   "source": [
    "All_uniquecombos = allcombosunique(All_combos, new_list)\n",
    "print('\\nAll unique possible combinations\\n',All_uniquecombos )"
   ]
  },
  {
   "cell_type": "code",
   "execution_count": null,
   "id": "849d593b",
   "metadata": {},
   "outputs": [],
   "source": [
    "#Second function to remove the items that do not meet the threshold\n",
    "def remove_lessthansupporttwo(Candidates, dataset):\n",
    "    list1 = []\n",
    "    for outlist in Candidates:\n",
    "        if len(outlist) >= 2:\n",
    "            second_object = outlist[1]\n",
    "            if (second_object / len(new_list))*100  >= user_input_minsupport:\n",
    "                list1.append(outlist[0])\n",
    "                list1.append(outlist[1])  \n",
    "    return list1"
   ]
  },
  {
   "cell_type": "code",
   "execution_count": null,
   "id": "75b95da4",
   "metadata": {},
   "outputs": [],
   "source": [
    "removed_second = remove_lessthansupporttwo(All_uniquecombos, new_list)\n",
    "print('\\nThese are the candidates after the next pass\\n',removed_second )"
   ]
  },
  {
   "cell_type": "code",
   "execution_count": null,
   "id": "15e725e1",
   "metadata": {},
   "outputs": [],
   "source": [
    "def Rules(CandidateSet):\n",
    "    CandidateRule = []\n",
    "    for candidates in CandidateSet:\n",
    "        if isinstance(candidates, list):\n",
    "            if len(candidates) != 0:\n",
    "                length_candidates = len(candidates) - 1\n",
    "                while length_candidates > 0:\n",
    "                    combos = list(itertools.combinations(candidates, length_candidates))\n",
    "                    combolist = []\n",
    "                    Left = []\n",
    "                    for Right in combos:\n",
    "                        Left = set(candidates) - set(Right)\n",
    "                        combolist.append(list(Left))\n",
    "                        combolist.append(list(Right))\n",
    "                        CandidateRule.append(combolist)\n",
    "                        combolist = []\n",
    "                    length_candidates = length_candidates - 1\n",
    "                    \n",
    "    return CandidateRule"
   ]
  },
  {
   "cell_type": "code",
   "execution_count": null,
   "id": "f25dd8c9",
   "metadata": {},
   "outputs": [],
   "source": [
    "Associationrules = Rules(removed_second)\n",
    "print('\\nThese are the association rules\\n\\n',Associationrules )"
   ]
  },
  {
   "cell_type": "code",
   "execution_count": null,
   "id": "d947c61c",
   "metadata": {},
   "outputs": [],
   "source": [
    "def Apriori(Associationrules, new_list, user_input_minConfidence):\n",
    "    AAlgorithm = []\n",
    "    for rule in Associationrules:\n",
    "        first = set(item[0] for item in rule[0])\n",
    "        Asupport = 0\n",
    "        ABsupport = 0\n",
    "        for transaction in new_list:\n",
    "            if first.issubset(set(transaction)):\n",
    "                Asupport += 1\n",
    "            if all(set(item) <= set(transaction) for each in rule for item in each):\n",
    "                ABsupport += 1\n",
    "        CalculateASupport = (Asupport * 1.0 / len(new_list)) * 100\n",
    "        CalculateABSupport = (ABsupport * 1.0 / len(new_list)) * 100\n",
    "        confidence = (CalculateABSupport / CalculateASupport) * 100\n",
    "        if confidence >= user_input_minConfidence:\n",
    "            OutputASupport = \"A Support is: \" + str(round(CalculateASupport,2))\n",
    "            OutputABSupport = \"\\nA&B support is: \" + str(CalculateABSupport)\n",
    "            OutputConfidence = \"\\nConfidence is: \" + str(round(confidence))\n",
    "            AAlgorithm.append(OutputASupport)\n",
    "            AAlgorithm.append(OutputABSupport)\n",
    "            AAlgorithm.append(OutputConfidence)\n",
    "            AAlgorithm.append(rule)\n",
    "    return AAlgorithm\n",
    "     \n"
   ]
  },
  {
   "cell_type": "code",
   "execution_count": null,
   "id": "00488374",
   "metadata": {},
   "outputs": [],
   "source": [
    "Apriori = Apriori(Associationrules, new_list, user_input_minConfidence)\n",
    "print('\\nApriori algorithm\\n', Apriori )"
   ]
  },
  {
   "cell_type": "code",
   "execution_count": null,
   "id": "a31e5016",
   "metadata": {
    "scrolled": false
   },
   "outputs": [],
   "source": [
    "counter = 1\n",
    "for i in Apriori:\n",
    "    if counter == 4:\n",
    "        print(\"\\n\"+str(i[0]) + \"------->\" + str(i[1])+\"\\n\")\n",
    "        counter = 0\n",
    "    else:\n",
    "        print(i, end='  ')\n",
    "    counter = counter + 1\n",
    "elapsed_time = time.time() - start_time\n",
    "print(\"--- %s seconds ---\" % (elapsed_time))"
   ]
  },
  {
   "cell_type": "markdown",
   "id": "02a3d2bb",
   "metadata": {},
   "source": [
    "### Brute Force"
   ]
  },
  {
   "cell_type": "code",
   "execution_count": null,
   "id": "ca672e0d",
   "metadata": {},
   "outputs": [],
   "source": [
    "import pandas as pd\n",
    "import time\n",
    "from itertools import combinations"
   ]
  },
  {
   "cell_type": "code",
   "execution_count": null,
   "id": "976a768a",
   "metadata": {},
   "outputs": [],
   "source": [
    "Transactiondata = input(\"Enter the file name: \")\n",
    "minsupport = float(input('Please enter the minimum support value'))"
   ]
  },
  {
   "cell_type": "code",
   "execution_count": null,
   "id": "a2e359b2",
   "metadata": {},
   "outputs": [],
   "source": [
    "start_time = time.time()\n",
    "transaction = pd.read_csv(Transactiondata, header =None)\n",
    "TransactionforSum = pd.get_dummies(transaction.unstack().dropna()).groupby(level=1).sum()\n",
    "UniqueItems = TransactionforSum.sum()  "
   ]
  },
  {
   "cell_type": "code",
   "execution_count": null,
   "id": "11f026de",
   "metadata": {},
   "outputs": [],
   "source": [
    "print('\\nThese are all unique one item sets:\\n\\n', UniqueItems)"
   ]
  },
  {
   "cell_type": "code",
   "execution_count": null,
   "id": "92e033be",
   "metadata": {},
   "outputs": [],
   "source": [
    "OneItemSets = pd.DataFrame((UniqueItems / len(transaction) * 100), columns = ['support'])\n",
    "OneFrequentItems = OneItemSets[OneItemSets['support'] >= minsupport]\n",
    "print('These are the Frequent One Item sets:\\n', OneFrequentItems)"
   ]
  },
  {
   "cell_type": "code",
   "execution_count": null,
   "id": "ecd76493",
   "metadata": {},
   "outputs": [],
   "source": [
    "import itertools\n",
    "items = UniqueItems.index\n",
    "combos = list(itertools.combinations(items, 2))\n",
    "combinations = []\n",
    "for combo in combos:\n",
    "    combinations.append(combo)"
   ]
  },
  {
   "cell_type": "code",
   "execution_count": null,
   "id": "73e5abec",
   "metadata": {},
   "outputs": [],
   "source": [
    "combo_counts = {}  \n",
    "for i in range(len(combinations)):\n",
    "    combo = combinations[i]\n",
    "    count = 0 \n",
    "    for index, row in transaction.iterrows():\n",
    "        if set(combo).issubset(row):\n",
    "            count += 1\n",
    "    combo_counts[i+1] = count   \n",
    "print('Thesea are all the two possible combinations:\\n\\n')\n",
    "for combo_num, count in combo_counts.items():\n",
    "    print(f\"({combinations[combo_num-1]})  , Number of repetitions {count}.\")"
   ]
  },
  {
   "cell_type": "code",
   "execution_count": null,
   "id": "1f76093e",
   "metadata": {},
   "outputs": [],
   "source": [
    "print('These are the 2 frequent itemsets:\\n\\n')\n",
    "for combo_num, count in combo_counts.items():\n",
    "    if (count / len(transaction) * 100) >= minsupport:\n",
    "        print(f\" ({combinations[combo_num-1]})   number of repetition: {count}.\")"
   ]
  },
  {
   "cell_type": "code",
   "execution_count": null,
   "id": "f9bcc2b2",
   "metadata": {},
   "outputs": [],
   "source": [
    "combinations = []\n",
    "for r in range(3,4):  \n",
    "    combos = list(itertools.combinations(items, r))\n",
    "    combinations.extend(combos)\n",
    "\n",
    "# Filter out empty tuples\n",
    "combinations = [combo for combo in combinations if combo]"
   ]
  },
  {
   "cell_type": "code",
   "execution_count": null,
   "id": "0a5d0820",
   "metadata": {},
   "outputs": [],
   "source": [
    "combo_counts = {}  \n",
    "for i in range(len(combinations)):\n",
    "    combo = combinations[i]\n",
    "    count = 0 \n",
    "    for index, row in transaction.iterrows():\n",
    "        if set(combo).issubset(row):\n",
    "            count += 1\n",
    "    combo_counts[i+1] = count \n",
    "print('These are the 3 possible combinations\\n\\n')\n",
    "for combo_num, count in combo_counts.items():\n",
    "    print(f\"({combinations[combo_num-1]}) number of repetitions {count}\\n\")"
   ]
  },
  {
   "cell_type": "code",
   "execution_count": null,
   "id": "902c76ab",
   "metadata": {},
   "outputs": [],
   "source": [
    "print('These are the 3 Frequent item set:\\n\\n')\n",
    "for combo_num, count in combo_counts.items():\n",
    "    if (count / len(transaction) * 100) >= minsupport:\n",
    "        print(f\"({combinations[combo_num-1]}) number of repetitions {count}\\n\")"
   ]
  },
  {
   "cell_type": "code",
   "execution_count": null,
   "id": "21e1ea41",
   "metadata": {},
   "outputs": [],
   "source": [
    "combinations = []\n",
    "for r in range(4,20):  \n",
    "    combos = list(itertools.combinations(items, r))\n",
    "    combinations.extend(combos)\n",
    "\n",
    "# Filter out empty tuples\n",
    "combinations = [combo for combo in combinations if combo]"
   ]
  },
  {
   "cell_type": "code",
   "execution_count": null,
   "id": "7834c597",
   "metadata": {},
   "outputs": [],
   "source": [
    "combo_counts = {}  \n",
    "for i in range(len(combinations)):\n",
    "    combo = combinations[i]\n",
    "    count = 0 \n",
    "    for index, row in transaction.iterrows():\n",
    "        if set(combo).issubset(row):\n",
    "            count += 1\n",
    "            #print(f\"Combo {i+1} ({combo}) is a subset of row {index} in the DataFrame.\")\n",
    "    combo_counts[i+1] = count\n",
    "print('These are the 4 and 4+ Frequent item sets:\\n\\n')\n",
    "for combo_num, count in combo_counts.items():\n",
    "    print(f\"({combinations[combo_num-1]}) number of repetitions {count}.\\n\\n\")"
   ]
  },
  {
   "cell_type": "code",
   "execution_count": null,
   "id": "028ba214",
   "metadata": {},
   "outputs": [],
   "source": [
    "print('These are all the other frequent item sets:\\n')\n",
    "for combo_num, count in combo_counts.items():\n",
    "    if (count / len(transaction) * 100) >= minsupport:\n",
    "        print(f\"({combinations[combo_num-1]}) number of repetitions: {count} .\")\n"
   ]
  },
  {
   "cell_type": "code",
   "execution_count": null,
   "id": "43f6a225",
   "metadata": {},
   "outputs": [],
   "source": [
    "elapsed_time = time.time() - start_time\n",
    "print(\"--- %s seconds ---\" % (elapsed_time))"
   ]
  },
  {
   "cell_type": "markdown",
   "id": "0c2e6424",
   "metadata": {},
   "source": [
    "### Aplying Apriori Library "
   ]
  },
  {
   "cell_type": "code",
   "execution_count": null,
   "id": "c676ebf0",
   "metadata": {},
   "outputs": [],
   "source": [
    "import csv\n",
    "import pandas as pd\n",
    "import time\n",
    "from itertools import combinations\n",
    "from apyori import apriori\n",
    "from mlxtend.frequent_patterns import apriori, fpmax\n",
    "from mlxtend.frequent_patterns import association_rules\n",
    "from mlxtend.preprocessing import TransactionEncoder"
   ]
  },
  {
   "cell_type": "code",
   "execution_count": null,
   "id": "2923d024",
   "metadata": {},
   "outputs": [],
   "source": [
    "#The below will allow us to read the file\n",
    "def load_data(filename):\n",
    "    full_transaction_list= []\n",
    "    with open(filename, encoding = 'utf-8-sig') as data:\n",
    "        transaction_data = csv.reader(data, delimiter = ',')\n",
    "        for  row in transaction_data:\n",
    "            filtered_rows = [value for value in row if value != '']\n",
    "            full_transaction_list.append(filtered_rows)\n",
    "        return full_transaction_list"
   ]
  },
  {
   "cell_type": "code",
   "execution_count": null,
   "id": "fce41449",
   "metadata": {},
   "outputs": [],
   "source": [
    "new_list = load_data(input('please enter file name\\n\\n'))"
   ]
  },
  {
   "cell_type": "code",
   "execution_count": null,
   "id": "c5cae27f",
   "metadata": {},
   "outputs": [],
   "source": [
    "new_list\n"
   ]
  },
  {
   "cell_type": "code",
   "execution_count": null,
   "id": "740fc767",
   "metadata": {},
   "outputs": [],
   "source": [
    "TranEn = TransactionEncoder()\n",
    "TranEn_ary=TranEn.fit(new_list).transform(new_list)"
   ]
  },
  {
   "cell_type": "code",
   "execution_count": null,
   "id": "080d2378",
   "metadata": {},
   "outputs": [],
   "source": [
    "Dataframe = pd.DataFrame(TranEn_ary, columns=TranEn.columns_)\n",
    "Dataframe"
   ]
  },
  {
   "cell_type": "code",
   "execution_count": null,
   "id": "97bad0bd",
   "metadata": {},
   "outputs": [],
   "source": [
    "frequentItemsets = apriori(Dataframe, min_support = 0.35, use_colnames=True)\n",
    "frequentItemsets"
   ]
  },
  {
   "cell_type": "code",
   "execution_count": null,
   "id": "be048637",
   "metadata": {},
   "outputs": [],
   "source": [
    "Rules = association_rules(frequentItemsets, metric=\"confidence\", min_threshold=0.75)\n",
    "Rules"
   ]
  }
 ],
 "metadata": {
  "kernelspec": {
   "display_name": "Python 3 (ipykernel)",
   "language": "python",
   "name": "python3"
  },
  "language_info": {
   "codemirror_mode": {
    "name": "ipython",
    "version": 3
   },
   "file_extension": ".py",
   "mimetype": "text/x-python",
   "name": "python",
   "nbconvert_exporter": "python",
   "pygments_lexer": "ipython3",
   "version": "3.11.5"
  }
 },
 "nbformat": 4,
 "nbformat_minor": 5
}
